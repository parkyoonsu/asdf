{
 "cells": [
  {
   "cell_type": "markdown",
   "id": "ae9694f9",
   "metadata": {},
   "source": [
    "## 라이브러리(library), 패키지(package), 모듈(module)\n",
    "\n",
    "- 라이브러리 >= 패키지 >= 모듈\n",
    "- 라이브러리: 여러 패키지와 모듈의 묶음\n",
    "- 패키지: 특정 기능과 관련된 여러 모듈의 묶음\n",
    "- 모듈: 이미 작성된 프로그램, 일반적으로 한 파일을 의미(.py)"
   ]
  },
  {
   "cell_type": "code",
   "execution_count": 1,
   "id": "c556476c",
   "metadata": {},
   "outputs": [
    {
     "name": "stdout",
     "output_type": "stream",
     "text": [
      "3.141592653589793\n"
     ]
    },
    {
     "ename": "ModuleNotFoundError",
     "evalue": "No module named 'tensorflow'",
     "output_type": "error",
     "traceback": [
      "\u001b[1;31m---------------------------------------------------------------------------\u001b[0m",
      "\u001b[1;31mModuleNotFoundError\u001b[0m                       Traceback (most recent call last)",
      "Cell \u001b[1;32mIn[1], line 10\u001b[0m\n\u001b[0;32m      7\u001b[0m \u001b[38;5;28;01mfrom\u001b[39;00m \u001b[38;5;21;01mmath\u001b[39;00m \u001b[38;5;28;01mimport\u001b[39;00m pi, cos, sin\n\u001b[0;32m      9\u001b[0m \u001b[38;5;66;03m# 3. as(Alias)\u001b[39;00m\n\u001b[1;32m---> 10\u001b[0m \u001b[38;5;28;01mimport\u001b[39;00m \u001b[38;5;21;01mtensorflow\u001b[39;00m \u001b[38;5;28;01mas\u001b[39;00m \u001b[38;5;21;01mtf\u001b[39;00m\n",
      "\u001b[1;31mModuleNotFoundError\u001b[0m: No module named 'tensorflow'"
     ]
    }
   ],
   "source": [
    "# 사용방법 3가지\n",
    "# 1. import\n",
    "import math  # math 전체를 호출\n",
    "print(math.pi)\n",
    "\n",
    "# 2. from import\n",
    "from math import pi, cos, sin\n",
    "\n",
    "# 3. as(Alias)\n",
    "import tensorflow as tf"
   ]
  },
  {
   "cell_type": "code",
   "execution_count": null,
   "id": "240c498f",
   "metadata": {},
   "outputs": [],
   "source": [
    "import pandas as pd\n",
    "import numpy as np\n",
    "import tensorflow as tf"
   ]
  },
  {
   "cell_type": "markdown",
   "id": "d2c36d33",
   "metadata": {},
   "source": [
    "## 예외처리\n",
    "\n",
    "예외\n",
    "- 프로그램을 개발하면서 예상하지 못한 상황\n",
    "- ex) 사용자의 입력 오류\n",
    "- ex) 전산실 화재\n",
    "- 데이터베이스(db) 또는 파일시스템 사용할 때는 반드시 예외처리!!\n",
    "\n",
    "```python\n",
    "# 예외 기본 문법\n",
    "try:\n",
    "    예외 발생 가능한 코드\n",
    "except 예외 타입:\n",
    "    예외 발생 시 실행되는 코드\n",
    "else:\n",
    "    예외가 발생하지 않았을 때 실행\n",
    "finally:\n",
    "    예외에 상관없이 무조건 실행  # 자원해제\n",
    "    \n",
    "# 정상실행: try - else - finally\n",
    "# 예외실행: try - except - finally\n",
    "# else, finally 생략 가능\n",
    "\n",
    "# 데이터베이스 사용!\n",
    "# 1. python(앱) - 데이터베이스: connection\n",
    "# 2. 사용(입력, 수정, 삭제, 조회, 검색)\n",
    "# 3. 연결 해제(자원 해제)\n",
    "\n",
    "```"
   ]
  },
  {
   "cell_type": "code",
   "execution_count": 6,
   "id": "a828c0a3",
   "metadata": {},
   "outputs": [
    {
     "name": "stdout",
     "output_type": "stream",
     "text": [
      "정상\n",
      "무조건 실행\n"
     ]
    }
   ],
   "source": [
    "from urllib.request import urlopen, HTTPError\n",
    "\n",
    "try:\n",
    "    html = urlopen(\"http://www.naver.com\")\n",
    "except HTTPError as e:\n",
    "    print(e)\n",
    "else:\n",
    "    print(\"정상\")\n",
    "finally:\n",
    "    print(\"무조건 실행\")"
   ]
  }
 ],
 "metadata": {
  "kernelspec": {
   "display_name": "Python 3 (ipykernel)",
   "language": "python",
   "name": "python3"
  },
  "language_info": {
   "codemirror_mode": {
    "name": "ipython",
    "version": 3
   },
   "file_extension": ".py",
   "mimetype": "text/x-python",
   "name": "python",
   "nbconvert_exporter": "python",
   "pygments_lexer": "ipython3",
   "version": "3.10.9"
  }
 },
 "nbformat": 4,
 "nbformat_minor": 5
}
