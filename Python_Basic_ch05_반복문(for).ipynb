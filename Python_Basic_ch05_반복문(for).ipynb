{
 "cells": [
  {
   "cell_type": "markdown",
   "id": "59239e01",
   "metadata": {},
   "source": [
    "## loop(반복문)\n",
    "\n",
    "- 반복적인 작업을 가능하게 해주는 도구\n",
    "- list, str, tuple 등 컬렉션 타입의 경우 아이템을 하나씩 순회하면서 사용(for)\n",
    "- 특정 조건을 만족하는 경우 계속 수행(while)\n",
    "\n",
    "1. 반복 횟수 알고 있음: for\n",
    "2. 반복 횟수 모름: while"
   ]
  },
  {
   "cell_type": "markdown",
   "id": "f38e0eaf",
   "metadata": {},
   "source": [
    "### 반복문(for)"
   ]
  },
  {
   "cell_type": "code",
   "execution_count": 1,
   "id": "08535409",
   "metadata": {},
   "outputs": [
    {
     "name": "stdout",
     "output_type": "stream",
     "text": [
      "1\n",
      "2\n",
      "3\n"
     ]
    }
   ],
   "source": [
    "# 컬렉션 타입을 활용한 반복문\n",
    "list_a = [1, 2, 3]\n",
    "\n",
    "for num in list_a:\n",
    "    print(num)"
   ]
  },
  {
   "cell_type": "code",
   "execution_count": 2,
   "id": "e902ebc7",
   "metadata": {},
   "outputs": [
    {
     "name": "stdout",
     "output_type": "stream",
     "text": [
      "0\n",
      "1\n",
      "2\n",
      "3\n",
      "4\n",
      "5\n",
      "6\n",
      "7\n",
      "8\n",
      "9\n"
     ]
    }
   ],
   "source": [
    "# range() 함수를 활용한 반복문\n",
    "# range(1, 11)\n",
    "\n",
    "for i in range(10):\n",
    "    print(i)"
   ]
  },
  {
   "cell_type": "code",
   "execution_count": 6,
   "id": "63fce593",
   "metadata": {},
   "outputs": [
    {
     "name": "stdout",
     "output_type": "stream",
     "text": [
      "0 7\n",
      "1 8\n",
      "2 9\n"
     ]
    }
   ],
   "source": [
    "# enumerate() 활용한 반복문\n",
    "# - 반복 횟수(인덱스) 알고 싶은 경우 사용\n",
    "a = [7, 8, 9]\n",
    "for i, val in enumerate(a):\n",
    "    print(i, val)"
   ]
  },
  {
   "cell_type": "code",
   "execution_count": 7,
   "id": "6b5983c3",
   "metadata": {},
   "outputs": [
    {
     "name": "stdout",
     "output_type": "stream",
     "text": [
      "0 0\n",
      "0 1\n",
      "0 2\n",
      "1 0\n",
      "1 1\n",
      "1 2\n",
      "2 0\n",
      "2 1\n",
      "2 2\n",
      "3 0\n",
      "3 1\n",
      "3 2\n",
      "4 0\n",
      "4 1\n",
      "4 2\n"
     ]
    }
   ],
   "source": [
    "# 중첩 for문\n",
    "for i in range(5):\n",
    "    for j in range(3):\n",
    "        print(i, j)"
   ]
  },
  {
   "cell_type": "code",
   "execution_count": 8,
   "id": "f1df8126",
   "metadata": {},
   "outputs": [
    {
     "name": "stdout",
     "output_type": "stream",
     "text": [
      "index:0, value:A\n",
      "index:1, value:B\n",
      "index:2, value:C\n",
      "index:3, value:D\n"
     ]
    }
   ],
   "source": [
    "a = [\"A\", \"B\", \"C\", \"D\"]\n",
    "for i, val in enumerate(a):\n",
    "    print(f\"index:{i}, value:{val}\")"
   ]
  },
  {
   "cell_type": "code",
   "execution_count": 13,
   "id": "2e188880",
   "metadata": {},
   "outputs": [
    {
     "name": "stdout",
     "output_type": "stream",
     "text": [
      "korea\n",
      "japan\n",
      "canada\n"
     ]
    }
   ],
   "source": [
    "# dict type\n",
    "a = {\n",
    "    \"korea\": \"seoul\",\n",
    "    \"japan\": \"tokyo\",\n",
    "    \"canada\": \"ottawa\"\n",
    "}\n",
    "\n",
    "for key in a:\n",
    "    print(key)"
   ]
  },
  {
   "cell_type": "code",
   "execution_count": 14,
   "id": "0704989f",
   "metadata": {},
   "outputs": [
    {
     "name": "stdout",
     "output_type": "stream",
     "text": [
      "seoul\n",
      "tokyo\n",
      "ottawa\n"
     ]
    }
   ],
   "source": [
    "for value in a.values():\n",
    "    print(value)"
   ]
  },
  {
   "cell_type": "code",
   "execution_count": 15,
   "id": "9f75e85d",
   "metadata": {},
   "outputs": [
    {
     "name": "stdout",
     "output_type": "stream",
     "text": [
      "korea seoul\n",
      "japan tokyo\n",
      "canada ottawa\n"
     ]
    }
   ],
   "source": [
    "for key, value in a.items():\n",
    "    print(key, value)"
   ]
  },
  {
   "cell_type": "code",
   "execution_count": 17,
   "id": "c067c312",
   "metadata": {},
   "outputs": [
    {
     "name": "stdout",
     "output_type": "stream",
     "text": [
      "1\n",
      "2\n",
      "3\n"
     ]
    }
   ],
   "source": [
    "# break: 반복문 종료\n",
    "a = [1, 2, 3, 4, 5]\n",
    "\n",
    "for num in a:\n",
    "    if num > 3:\n",
    "        break\n",
    "    print(num)"
   ]
  },
  {
   "cell_type": "code",
   "execution_count": 18,
   "id": "913a6b57",
   "metadata": {},
   "outputs": [
    {
     "name": "stdout",
     "output_type": "stream",
     "text": [
      "1\n",
      "3\n",
      "5\n"
     ]
    }
   ],
   "source": [
    "# contine: 해당 반복을 건너띄고 다음 반복으로 이동(반복문 종료X)\n",
    "\n",
    "a = [1, 2, 3, 4, 5]\n",
    "\n",
    "for num in a:\n",
    "    if num % 2 == 0:  # 짝수 판별\n",
    "        continue\n",
    "    print(num)"
   ]
  },
  {
   "cell_type": "markdown",
   "id": "6618f881",
   "metadata": {},
   "source": [
    "### 연습문제"
   ]
  },
  {
   "cell_type": "code",
   "execution_count": 3,
   "id": "8f5f12cb",
   "metadata": {},
   "outputs": [
    {
     "name": "stdout",
     "output_type": "stream",
     "text": [
      "2 X 1 = 2 \n",
      "2 X 2 = 4 \n",
      "2 X 3 = 6 \n",
      "2 X 4 = 8 \n",
      "2 X 5 = 10 \n",
      "2 X 6 = 12 \n",
      "2 X 7 = 14 \n",
      "2 X 8 = 16 \n",
      "2 X 9 = 18 \n"
     ]
    }
   ],
   "source": [
    "# 문제1. 구구단 출력\n",
    "# 2 X 1 = 2\n",
    "# 2 X 2 = 4\n",
    "# ...\n",
    "# 2 X 9 = 18\n",
    "\n",
    "for i in range(1, 10):\n",
    "    print(f\"2 X {i} = {2*i} \")"
   ]
  },
  {
   "cell_type": "code",
   "execution_count": 8,
   "id": "5011495c",
   "metadata": {},
   "outputs": [
    {
     "name": "stdout",
     "output_type": "stream",
     "text": [
      "단수: 9\n",
      "9 X 1 = 9 \n",
      "9 X 2 = 18 \n",
      "9 X 3 = 27 \n",
      "9 X 4 = 36 \n",
      "9 X 5 = 45 \n",
      "9 X 6 = 54 \n",
      "9 X 7 = 63 \n",
      "9 X 8 = 72 \n",
      "9 X 9 = 81 \n"
     ]
    }
   ],
   "source": [
    "num = int(input(\"단수: \"))\n",
    "\n",
    "for i in range(1, 10):\n",
    "    print(f\"{num} X {i} = {num*i} \")"
   ]
  },
  {
   "cell_type": "code",
   "execution_count": 9,
   "id": "422e21d3",
   "metadata": {},
   "outputs": [
    {
     "name": "stdout",
     "output_type": "stream",
     "text": [
      "2 X 1 = 9 \n",
      "2 X 2 = 18 \n",
      "2 X 3 = 27 \n",
      "2 X 4 = 36 \n",
      "2 X 5 = 45 \n",
      "2 X 6 = 54 \n",
      "2 X 7 = 63 \n",
      "2 X 8 = 72 \n",
      "2 X 9 = 81 \n",
      "3 X 1 = 9 \n",
      "3 X 2 = 18 \n",
      "3 X 3 = 27 \n",
      "3 X 4 = 36 \n",
      "3 X 5 = 45 \n",
      "3 X 6 = 54 \n",
      "3 X 7 = 63 \n",
      "3 X 8 = 72 \n",
      "3 X 9 = 81 \n",
      "4 X 1 = 9 \n",
      "4 X 2 = 18 \n",
      "4 X 3 = 27 \n",
      "4 X 4 = 36 \n",
      "4 X 5 = 45 \n",
      "4 X 6 = 54 \n",
      "4 X 7 = 63 \n",
      "4 X 8 = 72 \n",
      "4 X 9 = 81 \n",
      "5 X 1 = 9 \n",
      "5 X 2 = 18 \n",
      "5 X 3 = 27 \n",
      "5 X 4 = 36 \n",
      "5 X 5 = 45 \n",
      "5 X 6 = 54 \n",
      "5 X 7 = 63 \n",
      "5 X 8 = 72 \n",
      "5 X 9 = 81 \n",
      "6 X 1 = 9 \n",
      "6 X 2 = 18 \n",
      "6 X 3 = 27 \n",
      "6 X 4 = 36 \n",
      "6 X 5 = 45 \n",
      "6 X 6 = 54 \n",
      "6 X 7 = 63 \n",
      "6 X 8 = 72 \n",
      "6 X 9 = 81 \n",
      "7 X 1 = 9 \n",
      "7 X 2 = 18 \n",
      "7 X 3 = 27 \n",
      "7 X 4 = 36 \n",
      "7 X 5 = 45 \n",
      "7 X 6 = 54 \n",
      "7 X 7 = 63 \n",
      "7 X 8 = 72 \n",
      "7 X 9 = 81 \n",
      "8 X 1 = 9 \n",
      "8 X 2 = 18 \n",
      "8 X 3 = 27 \n",
      "8 X 4 = 36 \n",
      "8 X 5 = 45 \n",
      "8 X 6 = 54 \n",
      "8 X 7 = 63 \n",
      "8 X 8 = 72 \n",
      "8 X 9 = 81 \n",
      "9 X 1 = 9 \n",
      "9 X 2 = 18 \n",
      "9 X 3 = 27 \n",
      "9 X 4 = 36 \n",
      "9 X 5 = 45 \n",
      "9 X 6 = 54 \n",
      "9 X 7 = 63 \n",
      "9 X 8 = 72 \n",
      "9 X 9 = 81 \n"
     ]
    }
   ],
   "source": [
    "# 2단 ~ 9단 출력\n",
    "\n",
    "# 큰 반복: 2~9 -> 단수\n",
    "# 작은 반복: 1~9 -> 단수X1 ~ 단수X9\n",
    "for i in range(2, 10):  # i == 단수\n",
    "    for j in range(1, 10):\n",
    "        print(f\"{i} X {j} = {num*j} \")"
   ]
  },
  {
   "cell_type": "code",
   "execution_count": 12,
   "id": "b8f94c5d",
   "metadata": {},
   "outputs": [
    {
     "name": "stdout",
     "output_type": "stream",
     "text": [
      "2\n",
      "4\n",
      "6\n",
      "8\n",
      "10\n",
      "11\n",
      "12\n",
      "14\n",
      "16\n",
      "18\n",
      "20\n",
      "22\n",
      "24\n",
      "26\n",
      "28\n",
      "30\n"
     ]
    }
   ],
   "source": [
    "# 문제2. 1~30까지 정수 중 2의 배수 또는 11의 배수를 모두 출력하시오.\n",
    "for num in range(1, 31):\n",
    "    if num % 2 == 0 or num % 11 == 0:\n",
    "        print(num)"
   ]
  }
 ],
 "metadata": {
  "kernelspec": {
   "display_name": "Python 3 (ipykernel)",
   "language": "python",
   "name": "python3"
  },
  "language_info": {
   "codemirror_mode": {
    "name": "ipython",
    "version": 3
   },
   "file_extension": ".py",
   "mimetype": "text/x-python",
   "name": "python",
   "nbconvert_exporter": "python",
   "pygments_lexer": "ipython3",
   "version": "3.10.9"
  }
 },
 "nbformat": 4,
 "nbformat_minor": 5
}
